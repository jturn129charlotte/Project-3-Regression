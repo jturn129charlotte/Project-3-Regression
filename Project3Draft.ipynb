{
 "cells": [
  {
   "cell_type": "markdown",
   "id": "843f7bbc-4096-438e-a8ef-c57b1077b10f",
   "metadata": {},
   "source": [
    "Introduction\n",
    "\n",
    "For this project, I used the Kaggle House Prices dataset to predict the sale price of houses based on various property features. The goal is to build a regression model that can estimate the price of a home given characteristics like overall quality, living area, and year built. Regression is appropriate because the target variable (SalePrice) is continuous. Predicting house prices can help identify which property features have the biggest impact on value and improve decision-making in real estate.\n"
   ]
  },
  {
   "cell_type": "markdown",
   "id": "8b040eb7-d823-4c91-9c16-4cb5d0dd747d",
   "metadata": {},
   "source": [
    "Data Cleaning and Preprocess\n",
    "\n",
    "The dataset contained missing values, non-numeric columns, and features on different scales.\n",
    "To clean and prepare the data:\n",
    "-Replaced missing values in numeric columns with their mean.\n",
    "-Encoded categorical features using LabelEncoder.\n",
    "-Split the dataset into training (80%) and testing (20%) subsets.\n",
    "-Scaled the features using StandardScaler for better model performance."
   ]
  },
  {
   "cell_type": "code",
   "execution_count": 2,
   "id": "b9606f69-b638-4806-923a-5c094216a60a",
   "metadata": {},
   "outputs": [
    {
     "name": "stdout",
     "output_type": "stream",
     "text": [
      "=== Linear Regression Results ===\n",
      "MAE: 21687.38\n",
      "MSE: 1197632941.51\n",
      "R²: 0.8439\n"
     ]
    }
   ],
   "source": [
    "# Project 3: Regression – Predicting House Prices (simple version)\n",
    "\n",
    "import pandas as pd\n",
    "import numpy as np\n",
    "from sklearn.model_selection import train_test_split\n",
    "from sklearn.preprocessing import LabelEncoder, StandardScaler\n",
    "from sklearn.linear_model import LinearRegression\n",
    "from sklearn.metrics import mean_absolute_error, mean_squared_error, r2_score\n",
    "\n",
    "# Load the dataset\n",
    "df = pd.read_csv(\"train.csv\")\n",
    "\n",
    "# Drop the ID column if it exists\n",
    "if 'Id' in df.columns:\n",
    "    df = df.drop('Id', axis=1)\n",
    "\n",
    "# Fill missing numeric values with the column mean\n",
    "df = df.fillna(df.mean(numeric_only=True))\n",
    "\n",
    "# Fill missing categorical values with a placeholder\n",
    "df = df.fillna('Missing')\n",
    "\n",
    "# Encode all categorical columns\n",
    "encoder = LabelEncoder()\n",
    "for col in df.select_dtypes(include=['object']).columns:\n",
    "    df[col] = encoder.fit_transform(df[col].astype(str))\n",
    "\n",
    "# Split data into features and target\n",
    "X = df.drop('SalePrice', axis=1)\n",
    "y = df['SalePrice']\n",
    "\n",
    "# Split into training and testing sets\n",
    "X_train, X_test, y_train, y_test = train_test_split(X, y, test_size=0.2, random_state=42)\n",
    "\n",
    "# Scale features\n",
    "scaler = StandardScaler()\n",
    "X_train = scaler.fit_transform(X_train)\n",
    "X_test = scaler.transform(X_test)\n",
    "\n",
    "# Train a Linear Regression model\n",
    "model = LinearRegression()\n",
    "model.fit(X_train, y_train)\n",
    "\n",
    "# Make predictions\n",
    "y_pred = model.predict(X_test)\n",
    "\n",
    "# Evaluate the model\n",
    "mae = mean_absolute_error(y_test, y_pred)\n",
    "mse = mean_squared_error(y_test, y_pred)\n",
    "r2 = r2_score(y_test, y_pred)\n",
    "\n",
    "print(\"=== Linear Regression Results ===\")\n",
    "print(\"MAE:\", round(mae, 2))\n",
    "print(\"MSE:\", round(mse, 2))\n",
    "print(\"R²:\", round(r2, 4))\n"
   ]
  },
  {
   "cell_type": "markdown",
   "id": "5371b63f-5e3f-41b3-8695-33de5406db8f",
   "metadata": {},
   "source": [
    "Results and Interpretation\n",
    "\n",
    "The Linear Regression model performed well on the house price dataset, achieving an R² score of 0.84. This means the model can explain around 84% of the variability in house prices based on the features provided. The Mean Absolute Error (MAE) of about 21,687 indicates that, on average, the model’s predictions are off by roughly $21,000. While this is a good start, there is room to improve accuracy by testing additional models or performing feature engineering."
   ]
  },
  {
   "cell_type": "markdown",
   "id": "07241355-67a1-458a-a866-d0b441feb8ed",
   "metadata": {},
   "source": [
    "Conclusion\n",
    "\n",
    "This first experiment successfully used a regression model to predict house prices. The data cleaning and preprocessing steps helped prepare the dataset for training, and the Linear Regression model gave strong results as a baseline.\n",
    "For the final version of the project, I plan to:\n",
    "\n",
    "-Try other regression techniques like Ridge, Lasso, or Random Forest.\n",
    "\n",
    "-Add feature engineering to capture more patterns in the data.\n",
    "\n",
    "-Compare models using the same evaluation metrics to find the best performer."
   ]
  },
  {
   "cell_type": "code",
   "execution_count": null,
   "id": "1cc86f21-03f2-4e8e-a429-d8b25d9c9ef4",
   "metadata": {},
   "outputs": [],
   "source": []
  },
  {
   "cell_type": "code",
   "execution_count": null,
   "id": "e858d54d-142d-4120-8137-761b6e4c98fe",
   "metadata": {},
   "outputs": [],
   "source": []
  },
  {
   "cell_type": "code",
   "execution_count": null,
   "id": "26d132d9-f469-4e02-a864-1d0310e41142",
   "metadata": {},
   "outputs": [],
   "source": []
  }
 ],
 "metadata": {
  "kernelspec": {
   "display_name": "Python [conda env:base] *",
   "language": "python",
   "name": "conda-base-py"
  },
  "language_info": {
   "codemirror_mode": {
    "name": "ipython",
    "version": 3
   },
   "file_extension": ".py",
   "mimetype": "text/x-python",
   "name": "python",
   "nbconvert_exporter": "python",
   "pygments_lexer": "ipython3",
   "version": "3.13.5"
  }
 },
 "nbformat": 4,
 "nbformat_minor": 5
}
